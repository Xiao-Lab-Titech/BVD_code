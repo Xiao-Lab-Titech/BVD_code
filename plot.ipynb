{
 "cells": [
  {
   "cell_type": "code",
   "execution_count": null,
   "id": "be6f751e",
   "metadata": {},
   "outputs": [],
   "source": [
    "import pandas as pd\n",
    "import matplotlib.pyplot as plt\n",
    "import numpy as np\n",
    "import os"
   ]
  },
  {
   "cell_type": "code",
   "execution_count": null,
   "id": "53e3dc08",
   "metadata": {},
   "outputs": [],
   "source": [
    "# param.txt を読み込んで key-value に変換\n",
    "def load_param_file(filename):\n",
    "    params = {}\n",
    "    with open(filename, 'r') as f:\n",
    "        for line in f:\n",
    "            line = line.strip()\n",
    "            if not line or line.startswith('#'):\n",
    "                continue\n",
    "            if '=' in line:\n",
    "                key, value = line.split('=', 1)\n",
    "                params[key.strip()] = value.strip()\n",
    "    return params\n",
    "\n",
    "params = load_param_file(\"param.txt\")\n",
    "dimension = int(params.get(\"dimension\", 2))  # デフォルトで2次元"
   ]
  },
  {
   "cell_type": "code",
   "execution_count": null,
   "id": "aa5d13c6",
   "metadata": {},
   "outputs": [],
   "source": [
    "df = pd.read_csv(\"result.csv\")\n",
    "print(f\"Loaded result.csv with {len(df)} rows\")"
   ]
  },
  {
   "cell_type": "code",
   "execution_count": null,
   "id": "35da5110",
   "metadata": {},
   "outputs": [],
   "source": [
    "# Maps field number to column name and label\n",
    "def get_field_info(field_num):\n",
    "    field_map = {\n",
    "        1: (\"alpha1\", \"Volume fraction of phase 1\"),\n",
    "        2: (\"rho1\", \"Density of phase 1\"),\n",
    "        3: (\"rho2\", \"Density of phase 2\"),\n",
    "        4: (\"u\", \"Velocity x\"),\n",
    "        5: (\"v\", \"Velocity y\"),\n",
    "        6: (\"w\", \"Velocity z\"),\n",
    "        7: (\"p\", \"Pressure\"),\n",
    "        8: (\"rho\", \"Mixture density\"),\n",
    "        9: (\"Y1\", \"Mass fraction of phase 1\"),\n",
    "        10: (\"BVD_func\", \"BVD function\")\n",
    "    }\n",
    "    return field_map.get(field_num, (\"p\", \"Pressure\"))  # default fallback\n"
   ]
  },
  {
   "cell_type": "code",
   "execution_count": null,
   "id": "da3b4533",
   "metadata": {},
   "outputs": [],
   "source": [
    "# Select field number to visualize\n",
    "field_num = 1\n",
    "\n",
    "field_name, field_label = get_field_info(field_num)\n",
    "if dimension == 1:\n",
    "    plt.figure(figsize=(8, 4))\n",
    "    plt.plot(df['x'], df[field_name], label=field_label)\n",
    "    plt.xlabel('x')\n",
    "    plt.ylabel(field_label)\n",
    "    plt.title(f\"1D {field_label} Distribution\")\n",
    "    plt.grid(True)\n",
    "    plt.legend()\n",
    "    plt.show()\n",
    "\n",
    "elif dimension == 2:\n",
    "    plt.figure(figsize=(6, 5))\n",
    "    plt.scatter(df['x'], df['y'], c=df[field_name], cmap='viridis', s=3+field_num)\n",
    "    plt.xlabel('x')\n",
    "    plt.ylabel('y')\n",
    "    plt.title(f\"2D {field_label} Field\")\n",
    "    plt.colorbar(label=field_label)\n",
    "    plt.axis('equal')\n",
    "    plt.show()\n",
    "\n",
    "elif dimension == 3:\n",
    "    print(f\"3D visualization for '{field_label}' is not implemented yet.\")\n",
    "else:\n",
    "    print(f\"Unsupported dimension: {dimension}\")\n"
   ]
  }
 ],
 "metadata": {
  "kernelspec": {
   "display_name": "plot_env",
   "language": "python",
   "name": "python3"
  },
  "language_info": {
   "codemirror_mode": {
    "name": "ipython",
    "version": 3
   },
   "file_extension": ".py",
   "mimetype": "text/x-python",
   "name": "python",
   "nbconvert_exporter": "python",
   "pygments_lexer": "ipython3",
   "version": "3.12.3"
  }
 },
 "nbformat": 4,
 "nbformat_minor": 5
}
